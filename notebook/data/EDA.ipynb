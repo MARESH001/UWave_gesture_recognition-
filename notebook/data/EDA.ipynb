{
 "cells": [
  {
   "cell_type": "markdown",
   "metadata": {},
   "source": [
    "# Problem Statement:\n",
    "\n",
    "This project focuses on classifying eight distinct hand gestures using time series data from a three-axis accelerometer. The dataset includes over 4,000 samples collected from eight users, capturing variations in gesture patterns. The goal is to develop a machine learning model that accurately recognizes these gestures, enabling gesture-based interactions for improved human-computer interaction (HCI) and intuitive device control.\n"
   ]
  },
  {
   "cell_type": "code",
   "execution_count": null,
   "metadata": {},
   "outputs": [
    {
     "name": "stdout",
     "output_type": "stream",
     "text": [
      "Requirement already satisfied: liac-arff in c:\\users\\hp\\desktop\\uwave_gesture_recognition\\gesture-env\\lib\\site-packages (2.5.0)\n"
     ]
    }
   ],
   "source": [
    "%pip install liac-arff"
   ]
  },
  {
   "cell_type": "code",
   "execution_count": null,
   "metadata": {},
   "outputs": [
    {
     "name": "stdout",
     "output_type": "stream",
     "text": [
      "Requirement already satisfied: pycaret in c:\\users\\hp\\desktop\\uwave_gesture_recognition\\gesture-env\\lib\\site-packages (3.3.2)\n",
      "Requirement already satisfied: ipython>=5.5.0 in c:\\users\\hp\\desktop\\uwave_gesture_recognition\\gesture-env\\lib\\site-packages (from pycaret) (8.29.0)\n",
      "Requirement already satisfied: ipywidgets>=7.6.5 in c:\\users\\hp\\desktop\\uwave_gesture_recognition\\gesture-env\\lib\\site-packages (from pycaret) (8.1.5)\n",
      "Requirement already satisfied: tqdm>=4.62.0 in c:\\users\\hp\\desktop\\uwave_gesture_recognition\\gesture-env\\lib\\site-packages (from pycaret) (4.67.0)\n",
      "Requirement already satisfied: numpy<1.27,>=1.21 in c:\\users\\hp\\desktop\\uwave_gesture_recognition\\gesture-env\\lib\\site-packages (from pycaret) (1.26.4)\n",
      "Requirement already satisfied: pandas<2.2.0 in c:\\users\\hp\\desktop\\uwave_gesture_recognition\\gesture-env\\lib\\site-packages (from pycaret) (2.1.4)\n",
      "Requirement already satisfied: jinja2>=3 in c:\\users\\hp\\desktop\\uwave_gesture_recognition\\gesture-env\\lib\\site-packages (from pycaret) (3.1.4)\n",
      "Requirement already satisfied: scipy<=1.11.4,>=1.6.1 in c:\\users\\hp\\desktop\\uwave_gesture_recognition\\gesture-env\\lib\\site-packages (from pycaret) (1.11.4)\n",
      "Requirement already satisfied: joblib<1.4,>=1.2.0 in c:\\users\\hp\\desktop\\uwave_gesture_recognition\\gesture-env\\lib\\site-packages (from pycaret) (1.3.2)\n",
      "Requirement already satisfied: scikit-learn>1.4.0 in c:\\users\\hp\\desktop\\uwave_gesture_recognition\\gesture-env\\lib\\site-packages (from pycaret) (1.4.2)\n",
      "Requirement already satisfied: pyod>=1.1.3 in c:\\users\\hp\\desktop\\uwave_gesture_recognition\\gesture-env\\lib\\site-packages (from pycaret) (2.0.2)\n",
      "Requirement already satisfied: imbalanced-learn>=0.12.0 in c:\\users\\hp\\desktop\\uwave_gesture_recognition\\gesture-env\\lib\\site-packages (from pycaret) (0.12.4)\n",
      "Requirement already satisfied: category-encoders>=2.4.0 in c:\\users\\hp\\desktop\\uwave_gesture_recognition\\gesture-env\\lib\\site-packages (from pycaret) (2.6.4)\n",
      "Requirement already satisfied: lightgbm>=3.0.0 in c:\\users\\hp\\desktop\\uwave_gesture_recognition\\gesture-env\\lib\\site-packages (from pycaret) (4.5.0)\n",
      "Requirement already satisfied: numba>=0.55.0 in c:\\users\\hp\\desktop\\uwave_gesture_recognition\\gesture-env\\lib\\site-packages (from pycaret) (0.60.0)\n",
      "Requirement already satisfied: requests>=2.27.1 in c:\\users\\hp\\desktop\\uwave_gesture_recognition\\gesture-env\\lib\\site-packages (from pycaret) (2.32.3)\n",
      "Requirement already satisfied: psutil>=5.9.0 in c:\\users\\hp\\desktop\\uwave_gesture_recognition\\gesture-env\\lib\\site-packages (from pycaret) (6.1.0)\n",
      "Requirement already satisfied: markupsafe>=2.0.1 in c:\\users\\hp\\desktop\\uwave_gesture_recognition\\gesture-env\\lib\\site-packages (from pycaret) (3.0.2)\n",
      "Requirement already satisfied: importlib-metadata>=4.12.0 in c:\\users\\hp\\desktop\\uwave_gesture_recognition\\gesture-env\\lib\\site-packages (from pycaret) (8.5.0)\n",
      "Requirement already satisfied: nbformat>=4.2.0 in c:\\users\\hp\\desktop\\uwave_gesture_recognition\\gesture-env\\lib\\site-packages (from pycaret) (5.10.4)\n",
      "Requirement already satisfied: cloudpickle in c:\\users\\hp\\desktop\\uwave_gesture_recognition\\gesture-env\\lib\\site-packages (from pycaret) (3.1.0)\n",
      "Requirement already satisfied: deprecation>=2.1.0 in c:\\users\\hp\\desktop\\uwave_gesture_recognition\\gesture-env\\lib\\site-packages (from pycaret) (2.1.0)\n",
      "Requirement already satisfied: xxhash in c:\\users\\hp\\desktop\\uwave_gesture_recognition\\gesture-env\\lib\\site-packages (from pycaret) (3.5.0)\n",
      "Requirement already satisfied: matplotlib<3.8.0 in c:\\users\\hp\\desktop\\uwave_gesture_recognition\\gesture-env\\lib\\site-packages (from pycaret) (3.7.5)\n",
      "Requirement already satisfied: scikit-plot>=0.3.7 in c:\\users\\hp\\desktop\\uwave_gesture_recognition\\gesture-env\\lib\\site-packages (from pycaret) (0.3.7)\n",
      "Requirement already satisfied: yellowbrick>=1.4 in c:\\users\\hp\\desktop\\uwave_gesture_recognition\\gesture-env\\lib\\site-packages (from pycaret) (1.5)\n",
      "Requirement already satisfied: plotly>=5.14.0 in c:\\users\\hp\\desktop\\uwave_gesture_recognition\\gesture-env\\lib\\site-packages (from pycaret) (5.24.1)\n",
      "Requirement already satisfied: kaleido>=0.2.1 in c:\\users\\hp\\desktop\\uwave_gesture_recognition\\gesture-env\\lib\\site-packages (from pycaret) (0.2.1)\n",
      "Requirement already satisfied: schemdraw==0.15 in c:\\users\\hp\\desktop\\uwave_gesture_recognition\\gesture-env\\lib\\site-packages (from pycaret) (0.15)\n",
      "Requirement already satisfied: plotly-resampler>=0.8.3.1 in c:\\users\\hp\\desktop\\uwave_gesture_recognition\\gesture-env\\lib\\site-packages (from pycaret) (0.10.0)\n",
      "Requirement already satisfied: statsmodels>=0.12.1 in c:\\users\\hp\\desktop\\uwave_gesture_recognition\\gesture-env\\lib\\site-packages (from pycaret) (0.14.4)\n",
      "Requirement already satisfied: sktime==0.26.0 in c:\\users\\hp\\desktop\\uwave_gesture_recognition\\gesture-env\\lib\\site-packages (from pycaret) (0.26.0)\n",
      "Requirement already satisfied: tbats>=1.1.3 in c:\\users\\hp\\desktop\\uwave_gesture_recognition\\gesture-env\\lib\\site-packages (from pycaret) (1.1.3)\n",
      "Requirement already satisfied: pmdarima>=2.0.4 in c:\\users\\hp\\desktop\\uwave_gesture_recognition\\gesture-env\\lib\\site-packages (from pycaret) (2.0.4)\n",
      "Requirement already satisfied: packaging in c:\\users\\hp\\desktop\\uwave_gesture_recognition\\gesture-env\\lib\\site-packages (from sktime==0.26.0->pycaret) (24.2)\n",
      "Requirement already satisfied: scikit-base<0.8.0 in c:\\users\\hp\\desktop\\uwave_gesture_recognition\\gesture-env\\lib\\site-packages (from sktime==0.26.0->pycaret) (0.7.8)\n",
      "Requirement already satisfied: patsy>=0.5.1 in c:\\users\\hp\\desktop\\uwave_gesture_recognition\\gesture-env\\lib\\site-packages (from category-encoders>=2.4.0->pycaret) (1.0.1)\n",
      "Requirement already satisfied: threadpoolctl>=2.0.0 in c:\\users\\hp\\desktop\\uwave_gesture_recognition\\gesture-env\\lib\\site-packages (from imbalanced-learn>=0.12.0->pycaret) (3.5.0)\n",
      "Requirement already satisfied: zipp>=3.20 in c:\\users\\hp\\desktop\\uwave_gesture_recognition\\gesture-env\\lib\\site-packages (from importlib-metadata>=4.12.0->pycaret) (3.21.0)\n",
      "Requirement already satisfied: decorator in c:\\users\\hp\\desktop\\uwave_gesture_recognition\\gesture-env\\lib\\site-packages (from ipython>=5.5.0->pycaret) (5.1.1)\n",
      "Requirement already satisfied: jedi>=0.16 in c:\\users\\hp\\desktop\\uwave_gesture_recognition\\gesture-env\\lib\\site-packages (from ipython>=5.5.0->pycaret) (0.19.2)\n",
      "Requirement already satisfied: matplotlib-inline in c:\\users\\hp\\desktop\\uwave_gesture_recognition\\gesture-env\\lib\\site-packages (from ipython>=5.5.0->pycaret) (0.1.7)\n",
      "Requirement already satisfied: prompt-toolkit<3.1.0,>=3.0.41 in c:\\users\\hp\\desktop\\uwave_gesture_recognition\\gesture-env\\lib\\site-packages (from ipython>=5.5.0->pycaret) (3.0.48)\n",
      "Requirement already satisfied: pygments>=2.4.0 in c:\\users\\hp\\desktop\\uwave_gesture_recognition\\gesture-env\\lib\\site-packages (from ipython>=5.5.0->pycaret) (2.18.0)\n",
      "Requirement already satisfied: stack-data in c:\\users\\hp\\desktop\\uwave_gesture_recognition\\gesture-env\\lib\\site-packages (from ipython>=5.5.0->pycaret) (0.6.3)\n",
      "Requirement already satisfied: traitlets>=5.13.0 in c:\\users\\hp\\desktop\\uwave_gesture_recognition\\gesture-env\\lib\\site-packages (from ipython>=5.5.0->pycaret) (5.14.3)\n",
      "Requirement already satisfied: colorama in c:\\users\\hp\\desktop\\uwave_gesture_recognition\\gesture-env\\lib\\site-packages (from ipython>=5.5.0->pycaret) (0.4.6)\n",
      "Requirement already satisfied: comm>=0.1.3 in c:\\users\\hp\\desktop\\uwave_gesture_recognition\\gesture-env\\lib\\site-packages (from ipywidgets>=7.6.5->pycaret) (0.2.2)\n",
      "Requirement already satisfied: widgetsnbextension~=4.0.12 in c:\\users\\hp\\desktop\\uwave_gesture_recognition\\gesture-env\\lib\\site-packages (from ipywidgets>=7.6.5->pycaret) (4.0.13)\n",
      "Requirement already satisfied: jupyterlab-widgets~=3.0.12 in c:\\users\\hp\\desktop\\uwave_gesture_recognition\\gesture-env\\lib\\site-packages (from ipywidgets>=7.6.5->pycaret) (3.0.13)\n",
      "Requirement already satisfied: contourpy>=1.0.1 in c:\\users\\hp\\desktop\\uwave_gesture_recognition\\gesture-env\\lib\\site-packages (from matplotlib<3.8.0->pycaret) (1.3.1)\n",
      "Requirement already satisfied: cycler>=0.10 in c:\\users\\hp\\desktop\\uwave_gesture_recognition\\gesture-env\\lib\\site-packages (from matplotlib<3.8.0->pycaret) (0.12.1)\n",
      "Requirement already satisfied: fonttools>=4.22.0 in c:\\users\\hp\\desktop\\uwave_gesture_recognition\\gesture-env\\lib\\site-packages (from matplotlib<3.8.0->pycaret) (4.55.0)\n",
      "Requirement already satisfied: kiwisolver>=1.0.1 in c:\\users\\hp\\desktop\\uwave_gesture_recognition\\gesture-env\\lib\\site-packages (from matplotlib<3.8.0->pycaret) (1.4.7)\n",
      "Requirement already satisfied: pillow>=6.2.0 in c:\\users\\hp\\desktop\\uwave_gesture_recognition\\gesture-env\\lib\\site-packages (from matplotlib<3.8.0->pycaret) (11.0.0)\n",
      "Requirement already satisfied: pyparsing>=2.3.1 in c:\\users\\hp\\desktop\\uwave_gesture_recognition\\gesture-env\\lib\\site-packages (from matplotlib<3.8.0->pycaret) (3.2.0)\n",
      "Requirement already satisfied: python-dateutil>=2.7 in c:\\users\\hp\\desktop\\uwave_gesture_recognition\\gesture-env\\lib\\site-packages (from matplotlib<3.8.0->pycaret) (2.9.0.post0)\n",
      "Requirement already satisfied: fastjsonschema>=2.15 in c:\\users\\hp\\desktop\\uwave_gesture_recognition\\gesture-env\\lib\\site-packages (from nbformat>=4.2.0->pycaret) (2.20.0)\n",
      "Requirement already satisfied: jsonschema>=2.6 in c:\\users\\hp\\desktop\\uwave_gesture_recognition\\gesture-env\\lib\\site-packages (from nbformat>=4.2.0->pycaret) (4.23.0)\n",
      "Requirement already satisfied: jupyter-core!=5.0.*,>=4.12 in c:\\users\\hp\\desktop\\uwave_gesture_recognition\\gesture-env\\lib\\site-packages (from nbformat>=4.2.0->pycaret) (5.7.2)\n",
      "Requirement already satisfied: llvmlite<0.44,>=0.43.0dev0 in c:\\users\\hp\\desktop\\uwave_gesture_recognition\\gesture-env\\lib\\site-packages (from numba>=0.55.0->pycaret) (0.43.0)\n",
      "Requirement already satisfied: pytz>=2020.1 in c:\\users\\hp\\desktop\\uwave_gesture_recognition\\gesture-env\\lib\\site-packages (from pandas<2.2.0->pycaret) (2024.2)\n",
      "Requirement already satisfied: tzdata>=2022.1 in c:\\users\\hp\\desktop\\uwave_gesture_recognition\\gesture-env\\lib\\site-packages (from pandas<2.2.0->pycaret) (2024.2)\n",
      "Requirement already satisfied: tenacity>=6.2.0 in c:\\users\\hp\\desktop\\uwave_gesture_recognition\\gesture-env\\lib\\site-packages (from plotly>=5.14.0->pycaret) (9.0.0)\n",
      "Requirement already satisfied: dash>=2.9.0 in c:\\users\\hp\\desktop\\uwave_gesture_recognition\\gesture-env\\lib\\site-packages (from plotly-resampler>=0.8.3.1->pycaret) (2.18.2)\n",
      "Requirement already satisfied: orjson<4.0.0,>=3.8.0 in c:\\users\\hp\\desktop\\uwave_gesture_recognition\\gesture-env\\lib\\site-packages (from plotly-resampler>=0.8.3.1->pycaret) (3.10.11)\n",
      "Requirement already satisfied: tsdownsample>=0.1.3 in c:\\users\\hp\\desktop\\uwave_gesture_recognition\\gesture-env\\lib\\site-packages (from plotly-resampler>=0.8.3.1->pycaret) (0.1.3)\n",
      "Requirement already satisfied: Cython!=0.29.18,!=0.29.31,>=0.29 in c:\\users\\hp\\desktop\\uwave_gesture_recognition\\gesture-env\\lib\\site-packages (from pmdarima>=2.0.4->pycaret) (3.0.11)\n",
      "Requirement already satisfied: urllib3 in c:\\users\\hp\\desktop\\uwave_gesture_recognition\\gesture-env\\lib\\site-packages (from pmdarima>=2.0.4->pycaret) (2.2.3)\n",
      "Requirement already satisfied: setuptools!=50.0.0,>=38.6.0 in c:\\users\\hp\\desktop\\uwave_gesture_recognition\\gesture-env\\lib\\site-packages (from pmdarima>=2.0.4->pycaret) (75.5.0)\n",
      "Requirement already satisfied: charset-normalizer<4,>=2 in c:\\users\\hp\\desktop\\uwave_gesture_recognition\\gesture-env\\lib\\site-packages (from requests>=2.27.1->pycaret) (3.4.0)\n",
      "Requirement already satisfied: idna<4,>=2.5 in c:\\users\\hp\\desktop\\uwave_gesture_recognition\\gesture-env\\lib\\site-packages (from requests>=2.27.1->pycaret) (3.10)\n",
      "Requirement already satisfied: certifi>=2017.4.17 in c:\\users\\hp\\desktop\\uwave_gesture_recognition\\gesture-env\\lib\\site-packages (from requests>=2.27.1->pycaret) (2024.8.30)\n",
      "Requirement already satisfied: Flask<3.1,>=1.0.4 in c:\\users\\hp\\desktop\\uwave_gesture_recognition\\gesture-env\\lib\\site-packages (from dash>=2.9.0->plotly-resampler>=0.8.3.1->pycaret) (3.0.3)\n",
      "Requirement already satisfied: Werkzeug<3.1 in c:\\users\\hp\\desktop\\uwave_gesture_recognition\\gesture-env\\lib\\site-packages (from dash>=2.9.0->plotly-resampler>=0.8.3.1->pycaret) (3.0.6)\n",
      "Requirement already satisfied: dash-html-components==2.0.0 in c:\\users\\hp\\desktop\\uwave_gesture_recognition\\gesture-env\\lib\\site-packages (from dash>=2.9.0->plotly-resampler>=0.8.3.1->pycaret) (2.0.0)\n",
      "Requirement already satisfied: dash-core-components==2.0.0 in c:\\users\\hp\\desktop\\uwave_gesture_recognition\\gesture-env\\lib\\site-packages (from dash>=2.9.0->plotly-resampler>=0.8.3.1->pycaret) (2.0.0)\n",
      "Requirement already satisfied: dash-table==5.0.0 in c:\\users\\hp\\desktop\\uwave_gesture_recognition\\gesture-env\\lib\\site-packages (from dash>=2.9.0->plotly-resampler>=0.8.3.1->pycaret) (5.0.0)\n",
      "Requirement already satisfied: typing-extensions>=4.1.1 in c:\\users\\hp\\desktop\\uwave_gesture_recognition\\gesture-env\\lib\\site-packages (from dash>=2.9.0->plotly-resampler>=0.8.3.1->pycaret) (4.12.2)\n",
      "Requirement already satisfied: retrying in c:\\users\\hp\\desktop\\uwave_gesture_recognition\\gesture-env\\lib\\site-packages (from dash>=2.9.0->plotly-resampler>=0.8.3.1->pycaret) (1.3.4)\n",
      "Requirement already satisfied: nest-asyncio in c:\\users\\hp\\desktop\\uwave_gesture_recognition\\gesture-env\\lib\\site-packages (from dash>=2.9.0->plotly-resampler>=0.8.3.1->pycaret) (1.6.0)\n",
      "Requirement already satisfied: parso<0.9.0,>=0.8.4 in c:\\users\\hp\\desktop\\uwave_gesture_recognition\\gesture-env\\lib\\site-packages (from jedi>=0.16->ipython>=5.5.0->pycaret) (0.8.4)\n",
      "Requirement already satisfied: attrs>=22.2.0 in c:\\users\\hp\\desktop\\uwave_gesture_recognition\\gesture-env\\lib\\site-packages (from jsonschema>=2.6->nbformat>=4.2.0->pycaret) (24.2.0)\n",
      "Requirement already satisfied: jsonschema-specifications>=2023.03.6 in c:\\users\\hp\\desktop\\uwave_gesture_recognition\\gesture-env\\lib\\site-packages (from jsonschema>=2.6->nbformat>=4.2.0->pycaret) (2024.10.1)\n",
      "Requirement already satisfied: referencing>=0.28.4 in c:\\users\\hp\\desktop\\uwave_gesture_recognition\\gesture-env\\lib\\site-packages (from jsonschema>=2.6->nbformat>=4.2.0->pycaret) (0.35.1)\n",
      "Requirement already satisfied: rpds-py>=0.7.1 in c:\\users\\hp\\desktop\\uwave_gesture_recognition\\gesture-env\\lib\\site-packages (from jsonschema>=2.6->nbformat>=4.2.0->pycaret) (0.21.0)\n",
      "Requirement already satisfied: platformdirs>=2.5 in c:\\users\\hp\\desktop\\uwave_gesture_recognition\\gesture-env\\lib\\site-packages (from jupyter-core!=5.0.*,>=4.12->nbformat>=4.2.0->pycaret) (4.3.6)\n",
      "Requirement already satisfied: pywin32>=300 in c:\\users\\hp\\desktop\\uwave_gesture_recognition\\gesture-env\\lib\\site-packages (from jupyter-core!=5.0.*,>=4.12->nbformat>=4.2.0->pycaret) (308)\n",
      "Requirement already satisfied: wcwidth in c:\\users\\hp\\desktop\\uwave_gesture_recognition\\gesture-env\\lib\\site-packages (from prompt-toolkit<3.1.0,>=3.0.41->ipython>=5.5.0->pycaret) (0.2.13)\n",
      "Requirement already satisfied: six>=1.5 in c:\\users\\hp\\desktop\\uwave_gesture_recognition\\gesture-env\\lib\\site-packages (from python-dateutil>=2.7->matplotlib<3.8.0->pycaret) (1.16.0)\n",
      "Requirement already satisfied: executing>=1.2.0 in c:\\users\\hp\\desktop\\uwave_gesture_recognition\\gesture-env\\lib\\site-packages (from stack-data->ipython>=5.5.0->pycaret) (2.1.0)\n",
      "Requirement already satisfied: asttokens>=2.1.0 in c:\\users\\hp\\desktop\\uwave_gesture_recognition\\gesture-env\\lib\\site-packages (from stack-data->ipython>=5.5.0->pycaret) (2.4.1)\n",
      "Requirement already satisfied: pure-eval in c:\\users\\hp\\desktop\\uwave_gesture_recognition\\gesture-env\\lib\\site-packages (from stack-data->ipython>=5.5.0->pycaret) (0.2.3)\n",
      "Requirement already satisfied: itsdangerous>=2.1.2 in c:\\users\\hp\\desktop\\uwave_gesture_recognition\\gesture-env\\lib\\site-packages (from Flask<3.1,>=1.0.4->dash>=2.9.0->plotly-resampler>=0.8.3.1->pycaret) (2.2.0)\n",
      "Requirement already satisfied: click>=8.1.3 in c:\\users\\hp\\desktop\\uwave_gesture_recognition\\gesture-env\\lib\\site-packages (from Flask<3.1,>=1.0.4->dash>=2.9.0->plotly-resampler>=0.8.3.1->pycaret) (8.1.7)\n",
      "Requirement already satisfied: blinker>=1.6.2 in c:\\users\\hp\\desktop\\uwave_gesture_recognition\\gesture-env\\lib\\site-packages (from Flask<3.1,>=1.0.4->dash>=2.9.0->plotly-resampler>=0.8.3.1->pycaret) (1.9.0)\n"
     ]
    }
   ],
   "source": [
    "%pip install pycaret"
   ]
  },
  {
   "cell_type": "markdown",
   "metadata": {},
   "source": [
    "# DATA COLLECTION and EDA\n",
    "\n"
   ]
  },
  {
   "cell_type": "code",
   "execution_count": null,
   "metadata": {},
   "outputs": [
    {
     "ename": "SyntaxError",
     "evalue": "invalid syntax (1262715475.py, line 4)",
     "output_type": "error",
     "traceback": [
      "\u001b[1;36m  Cell \u001b[1;32mIn[1], line 4\u001b[1;36m\u001b[0m\n\u001b[1;33m    pandas as pd\u001b[0m\n\u001b[1;37m           ^\u001b[0m\n\u001b[1;31mSyntaxError\u001b[0m\u001b[1;31m:\u001b[0m invalid syntax\n"
     ]
    }
   ],
   "source": [
    "import pandas as pd\n",
    "import numpy as np\n",
    "\n",
    "# Load the ARFF file, handle the relational attribute\n",
    "def load_arff_file(filepath):\n",
    "    with open(filepath, 'r') as file:\n",
    "        # Read the ARFF file content\n",
    "        content = file.readlines()\n",
    "\n",
    "    # Find the start of the data section\n",
    "    data_start_index = content.index('@data\\n') + 1\n",
    "\n",
    "    # Extract attribute names (excluding relational attribute)\n",
    "    attribute_lines = [line for line in content[:data_start_index - 1] if line.startswith('@attribute')]\n",
    "    attribute_names = [line.split()[1] for line in attribute_lines if not line.startswith('@attribute relationalAtt')]  # Exclude relational attribute\n",
    "\n",
    "    # Extract the data\n",
    "    data_lines = content[data_start_index:]\n",
    "\n",
    "    # Parse the data lines into a list of lists\n",
    "    data = []\n",
    "    max_cols = 0  # Initialize a variable to track the maximum number of columns\n",
    "    for line in data_lines:\n",
    "        # Assuming data is comma-separated\n",
    "        values = [v.strip() for v in line.strip().split(',')]\n",
    "        if values and values[0] != '':\n",
    "            data.append(values)\n",
    "            max_cols = max(max_cols, len(values))  # Update max_cols if current row has more columns\n",
    "\n",
    "    # Adjust attribute_names based on the actual number of columns if needed\n",
    "    if len(attribute_names) != max_cols:\n",
    "        # If a mismatch is detected, create generic column names\n",
    "        attribute_names = [f'col_{i}' for i in range(max_cols)]\n",
    "\n",
    "    # Create DataFrame without the relational attribute\n",
    "    df = pd.DataFrame(data, columns=attribute_names)\n",
    "\n",
    "    # Convert numerical columns to appropriate types\n",
    "    for col in attribute_names:\n",
    "        try:\n",
    "            df[col] = pd.to_numeric(df[col])\n",
    "        except ValueError:\n",
    "            pass  # Ignore columns that can't be converted\n",
    "\n",
    "    return df\n",
    "\n",
    "# Load the ARFF file\n",
    "train_df = load_arff_file('C:\\\\Users\\\\HP\\\\Desktop\\\\UWAVE_GESTURE_RECOGNITION\\\\notebook\\\\data\\\\UWaveGestureLibrary_TRAIN.arff')\n",
    "\n",
    "\n",
    "# Display the DataFrame\n",
    "print(train_df.head())\n",
    "\n",
    "# Convert DataFrame to CSV and save it\n",
    "csv_file_path = 'C:\\\\Users\\\\HP\\\\Desktop\\\\UWAVE_GESTURE_RECOGNITION\\\\notebook\\\\data\\\\UWaveGestureLibrary_TRAIN.csv'\n",
    "train_df.to_csv(csv_file_path, index=False)\n",
    "\n",
    "print(f\"DataFrame has been converted and saved to {csv_file_path}\")"
   ]
  },
  {
   "cell_type": "code",
   "execution_count": 14,
   "metadata": {},
   "outputs": [
    {
     "name": "stdout",
     "output_type": "stream",
     "text": [
      "        col_0     col_1     col_2     col_3     col_4     col_5     col_6  \\\n",
      "0   '-0.48569 -0.485690 -0.485690 -0.485690 -0.485690 -0.485690 -0.485690   \n",
      "1   '-0.29459 -0.294590 -0.294590 -0.294590 -0.294590 -0.294590 -0.294590   \n",
      "2  '-0.080913 -0.080913 -0.080913 -0.080913 -0.080913 -0.080913 -0.080913   \n",
      "3    '0.45066  0.450660  0.450660  0.450660  0.450660  0.450660  0.450660   \n",
      "4  '-0.006052 -0.006052 -0.006052 -0.006052 -0.006052 -0.006052 -0.006052   \n",
      "\n",
      "      col_7     col_8     col_9  ...   col_934   col_935   col_936   col_937  \\\n",
      "0 -0.485690 -0.485690 -0.485690  ...  0.124300  0.117170  0.121190  0.134590   \n",
      "1 -0.294590 -0.294590 -0.294590  ... -0.089313 -0.089313 -0.089313 -0.089313   \n",
      "2 -0.080913 -0.080913 -0.080913  ...  0.596620  0.553660  0.510700  0.474050   \n",
      "3  0.450660  0.450660  0.450660  ... -0.332700 -0.344260 -0.322460 -0.292150   \n",
      "4 -0.006052 -0.006052 -0.006052  ...  0.211710  0.211710  0.211710  0.211710   \n",
      "\n",
      "    col_938   col_939   col_940   col_941     col_942  col_943  \n",
      "0  0.172380  0.206010  0.220370  0.220370    0.22037'      1.0  \n",
      "1 -0.089313 -0.089313 -0.089313 -0.089313  -0.089313'      1.0  \n",
      "2  0.441210  0.412570  0.383920  0.355280    0.32664'      1.0  \n",
      "3 -0.254600 -0.207270 -0.146090 -0.078687  -0.007701'      1.0  \n",
      "4  0.218580  0.230260  0.252630  0.275000    0.29738'      1.0  \n",
      "\n",
      "[5 rows x 944 columns]\n",
      "DataFrame has been converted and saved to C:\\Users\\HP\\Desktop\\UWAVE_GESTURE_RECOGNITION\\notebook\\data\\UWaveGestureLibrary_TEST.csv\n"
     ]
    }
   ],
   "source": [
    "import pandas as pd\n",
    "import numpy as np\n",
    "\n",
    "# Load the ARFF file, handle the relational attribute\n",
    "def load_arff_file(filepath):\n",
    "    with open(filepath, 'r') as file:\n",
    "        # Read the ARFF file content\n",
    "        content = file.readlines()\n",
    "\n",
    "    # Find the start of the data section\n",
    "    data_start_index = content.index('@data\\n') + 1\n",
    "\n",
    "    # Extract attribute names (excluding relational attribute)\n",
    "    attribute_lines = [line for line in content[:data_start_index - 1] if line.startswith('@attribute')]\n",
    "    attribute_names = [line.split()[1] for line in attribute_lines if not line.startswith('@attribute relationalAtt')]  # Exclude relational attribute\n",
    "\n",
    "    # Extract the data\n",
    "    data_lines = content[data_start_index:]\n",
    "\n",
    "    # Parse the data lines into a list of lists\n",
    "    data = []\n",
    "    max_cols = 0  # Initialize a variable to track the maximum number of columns\n",
    "    for line in data_lines:\n",
    "        # Assuming data is comma-separated\n",
    "        values = [v.strip() for v in line.strip().split(',')]\n",
    "        if values and values[0] != '':\n",
    "            data.append(values)\n",
    "            max_cols = max(max_cols, len(values))  # Update max_cols if current row has more columns\n",
    "\n",
    "    # Adjust attribute_names based on the actual number of columns if needed\n",
    "    if len(attribute_names) != max_cols:\n",
    "        # If a mismatch is detected, create generic column names\n",
    "        attribute_names = [f'col_{i}' for i in range(max_cols)]\n",
    "\n",
    "    # Create DataFrame without the relational attribute\n",
    "    df = pd.DataFrame(data, columns=attribute_names)\n",
    "\n",
    "    # Convert numerical columns to appropriate types\n",
    "    for col in attribute_names:\n",
    "        try:\n",
    "            df[col] = pd.to_numeric(df[col])\n",
    "        except ValueError:\n",
    "            pass  # Ignore columns that can't be converted\n",
    "\n",
    "    return df\n",
    "\n",
    "# Load the ARFF file\n",
    "train_df = load_arff_file('C:\\\\Users\\\\HP\\\\Desktop\\\\UWAVE_GESTURE_RECOGNITION\\\\notebook\\\\data\\\\UWaveGestrueLibrary_TEST.arff')\n",
    "\n",
    "\n",
    "# Display the DataFrame\n",
    "print(train_df.head())\n",
    "\n",
    "# Convert DataFrame to CSV and save it\n",
    "csv_file_path = 'C:\\\\Users\\\\HP\\\\Desktop\\\\UWAVE_GESTURE_RECOGNITION\\\\notebook\\\\data\\\\UWaveGestureLibrary_TEST.csv'\n",
    "train_df.to_csv(csv_file_path, index=False)\n",
    "\n",
    "print(f\"DataFrame has been converted and saved to {csv_file_path}\")"
   ]
  },
  {
   "cell_type": "code",
   "execution_count": 16,
   "metadata": {},
   "outputs": [
    {
     "name": "stdout",
     "output_type": "stream",
     "text": [
      "        col_0     col_1     col_2     col_3     col_4     col_5     col_6  \\\n",
      "0    '0.31745  0.317450  0.317450  0.317450  0.317450  0.317450  0.317450   \n",
      "1   '0.013633  0.013633  0.013633  0.013633  0.013633  0.013633  0.013633   \n",
      "2    '-1.4075 -1.407500 -1.407500 -1.407500 -1.407500 -1.407500 -1.407500   \n",
      "3  '-0.044749 -0.044749 -0.044749 -0.044749 -0.044749 -0.044749 -0.044749   \n",
      "4   '-0.40006 -0.400060 -0.400060 -0.400060 -0.400060 -0.400060 -0.400060   \n",
      "\n",
      "      col_7     col_8     col_9  ...  col_934  col_935  col_936  col_937  \\\n",
      "0  0.317450  0.317450  0.317450  ...  0.84246  0.82818  0.81390  0.79962   \n",
      "1  0.013633  0.013633  0.013633  ...  0.25528  0.25528  0.25528  0.25528   \n",
      "2 -1.407500 -1.407500 -1.407500  ...  0.19882  0.24220  0.28516  0.32812   \n",
      "3 -0.044749 -0.044749 -0.044749  ...  0.53957  0.57796  0.61364  0.64932   \n",
      "4 -0.400060 -0.400060 -0.400060  ...  0.29726  0.26346  0.22009  0.16862   \n",
      "\n",
      "   col_938   col_939   col_940   col_941     col_942  col_943  \n",
      "0  0.78477  0.767090  0.740940  0.712380    0.68382'      1.0  \n",
      "1  0.25528  0.255280  0.255280  0.255280    0.25528'      1.0  \n",
      "2  0.36145  0.390380  0.419310  0.448240    0.47718'      1.0  \n",
      "3  0.68500  0.651120  0.615450  0.579770    0.54409'      1.0  \n",
      "4  0.10254  0.041917  0.000058 -0.036678  -0.070475'      1.0  \n",
      "\n",
      "[5 rows x 944 columns]\n"
     ]
    }
   ],
   "source": [
    "import matplotlib.pyplot as plt \n",
    "import seaborn as sns\n",
    "\n",
    "csv_file_path = 'C:\\\\Users\\\\HP\\\\Desktop\\\\UWAVE_GESTURE_RECOGNITION\\\\notebook\\\\data\\\\UWaveGestureLibrary_TRAIN.csv'\n",
    "train_df = pd.read_csv(csv_file_path)\n",
    "\n",
    "print (train_df.head())"
   ]
  },
  {
   "cell_type": "code",
   "execution_count": 17,
   "metadata": {},
   "outputs": [
    {
     "name": "stdout",
     "output_type": "stream",
     "text": [
      "        col_0     col_1     col_2     col_3     col_4     col_5     col_6  \\\n",
      "0    '0.31745  0.317450  0.317450  0.317450  0.317450  0.317450  0.317450   \n",
      "1   '0.013633  0.013633  0.013633  0.013633  0.013633  0.013633  0.013633   \n",
      "2    '-1.4075 -1.407500 -1.407500 -1.407500 -1.407500 -1.407500 -1.407500   \n",
      "3  '-0.044749 -0.044749 -0.044749 -0.044749 -0.044749 -0.044749 -0.044749   \n",
      "4   '-0.40006 -0.400060 -0.400060 -0.400060 -0.400060 -0.400060 -0.400060   \n",
      "\n",
      "      col_7     col_8     col_9  ...  col_934  col_935  col_936  col_937  \\\n",
      "0  0.317450  0.317450  0.317450  ...  0.84246  0.82818  0.81390  0.79962   \n",
      "1  0.013633  0.013633  0.013633  ...  0.25528  0.25528  0.25528  0.25528   \n",
      "2 -1.407500 -1.407500 -1.407500  ...  0.19882  0.24220  0.28516  0.32812   \n",
      "3 -0.044749 -0.044749 -0.044749  ...  0.53957  0.57796  0.61364  0.64932   \n",
      "4 -0.400060 -0.400060 -0.400060  ...  0.29726  0.26346  0.22009  0.16862   \n",
      "\n",
      "   col_938   col_939   col_940   col_941     col_942  col_943  \n",
      "0  0.78477  0.767090  0.740940  0.712380    0.68382'      1.0  \n",
      "1  0.25528  0.255280  0.255280  0.255280    0.25528'      1.0  \n",
      "2  0.36145  0.390380  0.419310  0.448240    0.47718'      1.0  \n",
      "3  0.68500  0.651120  0.615450  0.579770    0.54409'      1.0  \n",
      "4  0.10254  0.041917  0.000058 -0.036678  -0.070475'      1.0  \n",
      "\n",
      "[5 rows x 944 columns]\n"
     ]
    }
   ],
   "source": [
    "csv_file_path = 'C:\\\\Users\\\\HP\\\\Desktop\\\\UWAVE_GESTURE_RECOGNITION\\\\notebook\\\\data\\\\UWaveGestureLibrary_TEST.csv'\n",
    "test_df = pd.read_csv(csv_file_path)\n",
    "\n",
    "print (train_df.head())"
   ]
  },
  {
   "cell_type": "markdown",
   "metadata": {},
   "source": [
    "**Converted .arff files to .csv files for easy analysis**\n"
   ]
  },
  {
   "cell_type": "code",
   "execution_count": 18,
   "metadata": {},
   "outputs": [
    {
     "name": "stdout",
     "output_type": "stream",
     "text": [
      "<class 'pandas.core.frame.DataFrame'>\n",
      "RangeIndex: 120 entries, 0 to 119\n",
      "Columns: 944 entries, col_0 to col_943\n",
      "dtypes: float64(940), object(4)\n",
      "memory usage: 885.1+ KB\n"
     ]
    }
   ],
   "source": [
    "train_df.info()"
   ]
  },
  {
   "cell_type": "code",
   "execution_count": 19,
   "metadata": {},
   "outputs": [
    {
     "data": {
      "text/plain": [
       "0"
      ]
     },
     "execution_count": 19,
     "metadata": {},
     "output_type": "execute_result"
    }
   ],
   "source": [
    "train_df.duplicated().sum()"
   ]
  },
  {
   "cell_type": "code",
   "execution_count": 20,
   "metadata": {},
   "outputs": [
    {
     "name": "stdout",
     "output_type": "stream",
     "text": [
      "col_0      0\n",
      "col_1      0\n",
      "col_2      0\n",
      "col_3      0\n",
      "col_4      0\n",
      "          ..\n",
      "col_939    0\n",
      "col_940    0\n",
      "col_941    0\n",
      "col_942    0\n",
      "col_943    0\n",
      "Length: 944, dtype: int64\n"
     ]
    }
   ],
   "source": [
    "print(train_df.isnull().sum())"
   ]
  },
  {
   "cell_type": "code",
   "execution_count": 21,
   "metadata": {},
   "outputs": [
    {
     "name": "stdout",
     "output_type": "stream",
     "text": [
      "Unique Classes: [1. 2. 3. 4. 5. 6. 7. 8.]\n"
     ]
    }
   ],
   "source": [
    "# Identify unique classes\n",
    "unique_classes = train_df['col_943'].unique()\n",
    "print(\"Unique Classes:\", unique_classes)"
   ]
  },
  {
   "cell_type": "code",
   "execution_count": 22,
   "metadata": {},
   "outputs": [
    {
     "name": "stdout",
     "output_type": "stream",
     "text": [
      "Class 1.0 has 15 samples.\n",
      "Class 2.0 has 15 samples.\n",
      "Class 3.0 has 15 samples.\n",
      "Class 4.0 has 15 samples.\n",
      "Class 5.0 has 15 samples.\n",
      "Class 6.0 has 15 samples.\n",
      "Class 7.0 has 15 samples.\n",
      "Class 8.0 has 15 samples.\n"
     ]
    }
   ],
   "source": [
    "# Create a dictionary to hold segregated data\n",
    "segregated_data = {class_label: train_df[train_df['col_943'] == class_label] for class_label in unique_classes}\n",
    "\n",
    "# Display the size of each segregated DataFrame\n",
    "for class_label, data in segregated_data.items():\n",
    "    print(f\"Class {class_label} has {len(data)} samples.\")"
   ]
  },
  {
   "cell_type": "markdown",
   "metadata": {},
   "source": [
    "# DATA CLEANING:\n",
    "\n",
    "**Dataset contains 4000 data points with 8 gestures (classes) each with 15 samples, contains no empty points and duplicates.**\n"
   ]
  },
  {
   "cell_type": "code",
   "execution_count": 23,
   "metadata": {},
   "outputs": [
    {
     "name": "stdout",
     "output_type": "stream",
     "text": [
      "Non-numeric values in training set:\n",
      "          col_0     col_1     col_2     col_3     col_4     col_5     col_6  \\\n",
      "0      '0.31745  0.317450  0.317450  0.317450  0.317450  0.317450  0.317450   \n",
      "1     '0.013633  0.013633  0.013633  0.013633  0.013633  0.013633  0.013633   \n",
      "2      '-1.4075 -1.407500 -1.407500 -1.407500 -1.407500 -1.407500 -1.407500   \n",
      "3    '-0.044749 -0.044749 -0.044749 -0.044749 -0.044749 -0.044749 -0.044749   \n",
      "4     '-0.40006 -0.400060 -0.400060 -0.400060 -0.400060 -0.400060 -0.400060   \n",
      "..          ...       ...       ...       ...       ...       ...       ...   \n",
      "115   '-0.85196 -0.851960 -0.851960 -0.851960 -0.851960 -0.851960 -0.851960   \n",
      "116     '-0.173 -0.173000 -0.173000 -0.173000 -0.173000 -0.173000 -0.173000   \n",
      "117     '1.1111  1.111100  1.111100  1.111100  1.111100  1.111100  1.111100   \n",
      "118   '-0.98835 -0.988350 -0.988350 -0.988350 -0.988350 -0.988350 -0.988350   \n",
      "119   '-0.14079 -0.140790 -0.140790 -0.140790 -0.140790 -0.140790 -0.140790   \n",
      "\n",
      "        col_7     col_8     col_9  ...   col_934   col_935   col_936  \\\n",
      "0    0.317450  0.317450  0.317450  ...  0.842460  0.828180  0.813900   \n",
      "1    0.013633  0.013633  0.013633  ...  0.255280  0.255280  0.255280   \n",
      "2   -1.407500 -1.407500 -1.407500  ...  0.198820  0.242200  0.285160   \n",
      "3   -0.044749 -0.044749 -0.044749  ...  0.539570  0.577960  0.613640   \n",
      "4   -0.400060 -0.400060 -0.400060  ...  0.297260  0.263460  0.220090   \n",
      "..        ...       ...       ...  ...       ...       ...       ...   \n",
      "115 -0.851960 -0.851960 -0.851960  ... -0.365780 -0.371820 -0.371820   \n",
      "116 -0.173000 -0.173000 -0.173000  ...  0.023072  0.011222 -0.000628   \n",
      "117  1.111100  1.111100  1.111100  ...  0.338230  0.312850  0.283180   \n",
      "118 -0.997250 -1.018200 -1.052000  ...  0.098203  0.076745  0.064862   \n",
      "119 -0.140790 -0.140790 -0.140790  ...  0.161510  0.171080  0.184630   \n",
      "\n",
      "      col_937   col_938   col_939   col_940   col_941     col_942  col_943  \n",
      "0    0.799620  0.784770  0.767090  0.740940  0.712380    0.68382'      1.0  \n",
      "1    0.255280  0.255280  0.255280  0.255280  0.255280    0.25528'      1.0  \n",
      "2    0.328120  0.361450  0.390380  0.419310  0.448240    0.47718'      1.0  \n",
      "3    0.649320  0.685000  0.651120  0.615450  0.579770    0.54409'      1.0  \n",
      "4    0.168620  0.102540  0.041917  0.000058 -0.036678  -0.070475'      1.0  \n",
      "..        ...       ...       ...       ...       ...         ...      ...  \n",
      "115 -0.371820 -0.371820 -0.371820 -0.371820 -0.371820   -0.37182'      8.0  \n",
      "116 -0.011163 -0.021591 -0.022116 -0.022116 -0.022116  -0.022116'      8.0  \n",
      "117  0.275590  0.275590  0.275590  0.275590  0.275590    0.27559'      8.0  \n",
      "118  0.053060  0.015039 -0.022983 -0.069666 -0.129230   -0.20527'      8.0  \n",
      "119  0.198180  0.211730  0.225270  0.238820  0.252370    0.26592'      8.0  \n",
      "\n",
      "[120 rows x 944 columns]\n",
      "Non-numeric values in test set:\n",
      "          col_0     col_1     col_2     col_3     col_4     col_5     col_6  \\\n",
      "0     '-0.48569 -0.485690 -0.485690 -0.485690 -0.485690 -0.485690 -0.485690   \n",
      "1     '-0.29459 -0.294590 -0.294590 -0.294590 -0.294590 -0.294590 -0.294590   \n",
      "2    '-0.080913 -0.080913 -0.080913 -0.080913 -0.080913 -0.080913 -0.080913   \n",
      "3      '0.45066  0.450660  0.450660  0.450660  0.450660  0.450660  0.450660   \n",
      "4    '-0.006052 -0.006052 -0.006052 -0.006052 -0.006052 -0.006052 -0.006052   \n",
      "..          ...       ...       ...       ...       ...       ...       ...   \n",
      "315   '-0.54571 -0.545710 -0.545710 -0.545710 -0.545710 -0.545710 -0.545710   \n",
      "316    '0.14395  0.143950  0.143950  0.143950  0.143950  0.143950  0.143950   \n",
      "317    '-1.0982 -1.098200 -1.098200 -1.098200 -1.098200 -1.098200 -1.098200   \n",
      "318    '-1.2053 -1.205300 -1.205300 -1.205300 -1.205300 -1.205300 -1.205300   \n",
      "319   '-0.83761 -0.837610 -0.837610 -0.837610 -0.837610 -0.837610 -0.837610   \n",
      "\n",
      "        col_7     col_8     col_9  ...   col_934   col_935   col_936  \\\n",
      "0   -0.485690 -0.485690 -0.485690  ...  0.124300  0.117170  0.121190   \n",
      "1   -0.294590 -0.294590 -0.294590  ... -0.089313 -0.089313 -0.089313   \n",
      "2   -0.080913 -0.080913 -0.080913  ...  0.596620  0.553660  0.510700   \n",
      "3    0.450660  0.450660  0.450660  ... -0.332700 -0.344260 -0.322460   \n",
      "4   -0.006052 -0.006052 -0.006052  ...  0.211710  0.211710  0.211710   \n",
      "..        ...       ...       ...  ...       ...       ...       ...   \n",
      "315 -0.545710 -0.545710 -0.545710  ...  0.434140  0.408930  0.383710   \n",
      "316  0.143950  0.143950  0.143950  ...  1.343200  1.394500  1.445700   \n",
      "317 -1.098200 -1.098200 -1.098200  ... -0.338040 -0.364060 -0.358590   \n",
      "318 -1.205300 -1.205300 -1.205300  ... -0.051460 -0.040674 -0.017086   \n",
      "319 -0.837610 -0.837610 -0.837610  ... -0.190150 -0.159650 -0.140380   \n",
      "\n",
      "      col_937   col_938   col_939   col_940   col_941     col_942  col_943  \n",
      "0    0.134590  0.172380  0.206010  0.220370  0.220370    0.22037'      1.0  \n",
      "1   -0.089313 -0.089313 -0.089313 -0.089313 -0.089313  -0.089313'      1.0  \n",
      "2    0.474050  0.441210  0.412570  0.383920  0.355280    0.32664'      1.0  \n",
      "3   -0.292150 -0.254600 -0.207270 -0.146090 -0.078687  -0.007701'      1.0  \n",
      "4    0.211710  0.218580  0.230260  0.252630  0.275000    0.29738'      1.0  \n",
      "..        ...       ...       ...       ...       ...         ...      ...  \n",
      "315  0.363680  0.343650  0.326840  0.310030  0.293220    0.27641'      8.0  \n",
      "316  1.496900  1.547500  1.596800  1.632700  1.666900      1.701'      8.0  \n",
      "317 -0.353120 -0.336500 -0.314800 -0.293100 -0.271410   -0.24971'      8.0  \n",
      "318  0.006501  0.030088  0.059748  0.092086  0.136990    0.18417'      8.0  \n",
      "319 -0.138390 -0.152260 -0.185100 -0.188150 -0.172650   -0.13839'      8.0  \n",
      "\n",
      "[320 rows x 944 columns]\n"
     ]
    },
    {
     "name": "stderr",
     "output_type": "stream",
     "text": [
      "C:\\Users\\HP\\AppData\\Local\\Temp\\ipykernel_10488\\2970302186.py:2: FutureWarning: DataFrame.applymap has been deprecated. Use DataFrame.map instead.\n",
      "  non_numeric_train = train_df.applymap(lambda x: isinstance(x, str) and not x.replace('.', '', 1).isdigit())\n",
      "C:\\Users\\HP\\AppData\\Local\\Temp\\ipykernel_10488\\2970302186.py:3: FutureWarning: DataFrame.applymap has been deprecated. Use DataFrame.map instead.\n",
      "  non_numeric_test = test_df.applymap(lambda x: isinstance(x, str) and not x.replace('.', '', 1).isdigit())\n"
     ]
    }
   ],
   "source": [
    "# Check for non-numeric values in the DataFrame\n",
    "non_numeric_train = train_df.applymap(lambda x: isinstance(x, str) and not x.replace('.', '', 1).isdigit())\n",
    "non_numeric_test = test_df.applymap(lambda x: isinstance(x, str) and not x.replace('.', '', 1).isdigit())\n",
    "\n",
    "print(\"Non-numeric values in training set:\")\n",
    "print(train_df[non_numeric_train.any(axis=1)])\n",
    "\n",
    "print(\"Non-numeric values in test set:\")\n",
    "print(test_df[non_numeric_test.any(axis=1)])\n"
   ]
  },
  {
   "cell_type": "markdown",
   "metadata": {},
   "source": [
    "**The dataset includes time series data points that are non-numeric in their current format, as they are enclosed in single quotes (e.g., '0.31745') and contain newline characters (\\n)**"
   ]
  },
  {
   "cell_type": "code",
   "execution_count": 24,
   "metadata": {},
   "outputs": [
    {
     "name": "stderr",
     "output_type": "stream",
     "text": [
      "C:\\Users\\HP\\AppData\\Local\\Temp\\ipykernel_10488\\1947246407.py:12: FutureWarning: DataFrame.applymap has been deprecated. Use DataFrame.map instead.\n",
      "  train_df = train_df.applymap(clean_and_convert)\n",
      "C:\\Users\\HP\\AppData\\Local\\Temp\\ipykernel_10488\\1947246407.py:13: FutureWarning: DataFrame.applymap has been deprecated. Use DataFrame.map instead.\n",
      "  test_df = test_df.applymap(clean_and_convert)\n"
     ]
    }
   ],
   "source": [
    "# Clean and convert strings with additional handling for newlines and other anomalies\n",
    "def clean_and_convert(x):\n",
    "    if isinstance(x, str):\n",
    "        x = x.replace(\"\\n\", \"\")  # Remove newline characters\n",
    "        x = x.strip(\"'\")  # Remove any single quotes\n",
    "        try:\n",
    "            return float(x)\n",
    "        except ValueError:\n",
    "            return None  # or handle as needed (e.g., return np.nan)\n",
    "    return x\n",
    "\n",
    "train_df = train_df.applymap(clean_and_convert)\n",
    "test_df = test_df.applymap(clean_and_convert)\n"
   ]
  },
  {
   "cell_type": "code",
   "execution_count": 25,
   "metadata": {},
   "outputs": [
    {
     "name": "stdout",
     "output_type": "stream",
     "text": [
      "Non-numeric values in training set:\n",
      "Empty DataFrame\n",
      "Columns: [col_0, col_1, col_2, col_3, col_4, col_5, col_6, col_7, col_8, col_9, col_10, col_11, col_12, col_13, col_14, col_15, col_16, col_17, col_18, col_19, col_20, col_21, col_22, col_23, col_24, col_25, col_26, col_27, col_28, col_29, col_30, col_31, col_32, col_33, col_34, col_35, col_36, col_37, col_38, col_39, col_40, col_41, col_42, col_43, col_44, col_45, col_46, col_47, col_48, col_49, col_50, col_51, col_52, col_53, col_54, col_55, col_56, col_57, col_58, col_59, col_60, col_61, col_62, col_63, col_64, col_65, col_66, col_67, col_68, col_69, col_70, col_71, col_72, col_73, col_74, col_75, col_76, col_77, col_78, col_79, col_80, col_81, col_82, col_83, col_84, col_85, col_86, col_87, col_88, col_89, col_90, col_91, col_92, col_93, col_94, col_95, col_96, col_97, col_98, col_99, ...]\n",
      "Index: []\n",
      "\n",
      "[0 rows x 944 columns]\n",
      "Non-numeric values in test set:\n",
      "Empty DataFrame\n",
      "Columns: [col_0, col_1, col_2, col_3, col_4, col_5, col_6, col_7, col_8, col_9, col_10, col_11, col_12, col_13, col_14, col_15, col_16, col_17, col_18, col_19, col_20, col_21, col_22, col_23, col_24, col_25, col_26, col_27, col_28, col_29, col_30, col_31, col_32, col_33, col_34, col_35, col_36, col_37, col_38, col_39, col_40, col_41, col_42, col_43, col_44, col_45, col_46, col_47, col_48, col_49, col_50, col_51, col_52, col_53, col_54, col_55, col_56, col_57, col_58, col_59, col_60, col_61, col_62, col_63, col_64, col_65, col_66, col_67, col_68, col_69, col_70, col_71, col_72, col_73, col_74, col_75, col_76, col_77, col_78, col_79, col_80, col_81, col_82, col_83, col_84, col_85, col_86, col_87, col_88, col_89, col_90, col_91, col_92, col_93, col_94, col_95, col_96, col_97, col_98, col_99, ...]\n",
      "Index: []\n",
      "\n",
      "[0 rows x 944 columns]\n"
     ]
    },
    {
     "name": "stderr",
     "output_type": "stream",
     "text": [
      "C:\\Users\\HP\\AppData\\Local\\Temp\\ipykernel_10488\\2970302186.py:2: FutureWarning: DataFrame.applymap has been deprecated. Use DataFrame.map instead.\n",
      "  non_numeric_train = train_df.applymap(lambda x: isinstance(x, str) and not x.replace('.', '', 1).isdigit())\n",
      "C:\\Users\\HP\\AppData\\Local\\Temp\\ipykernel_10488\\2970302186.py:3: FutureWarning: DataFrame.applymap has been deprecated. Use DataFrame.map instead.\n",
      "  non_numeric_test = test_df.applymap(lambda x: isinstance(x, str) and not x.replace('.', '', 1).isdigit())\n"
     ]
    }
   ],
   "source": [
    "# Check for non-numeric values in the DataFrame\n",
    "non_numeric_train = train_df.applymap(lambda x: isinstance(x, str) and not x.replace('.', '', 1).isdigit())\n",
    "non_numeric_test = test_df.applymap(lambda x: isinstance(x, str) and not x.replace('.', '', 1).isdigit())\n",
    "\n",
    "print(\"Non-numeric values in training set:\")\n",
    "print(train_df[non_numeric_train.any(axis=1)])\n",
    "\n",
    "print(\"Non-numeric values in test set:\")\n",
    "print(test_df[non_numeric_test.any(axis=1)])\n"
   ]
  },
  {
   "cell_type": "code",
   "execution_count": 26,
   "metadata": {},
   "outputs": [
    {
     "data": {
      "text/html": [
       "<div>\n",
       "<style scoped>\n",
       "    .dataframe tbody tr th:only-of-type {\n",
       "        vertical-align: middle;\n",
       "    }\n",
       "\n",
       "    .dataframe tbody tr th {\n",
       "        vertical-align: top;\n",
       "    }\n",
       "\n",
       "    .dataframe thead th {\n",
       "        text-align: right;\n",
       "    }\n",
       "</style>\n",
       "<table border=\"1\" class=\"dataframe\">\n",
       "  <thead>\n",
       "    <tr style=\"text-align: right;\">\n",
       "      <th></th>\n",
       "      <th>col_0</th>\n",
       "      <th>col_1</th>\n",
       "      <th>col_2</th>\n",
       "      <th>col_3</th>\n",
       "      <th>col_4</th>\n",
       "      <th>col_5</th>\n",
       "      <th>col_6</th>\n",
       "      <th>col_7</th>\n",
       "      <th>col_8</th>\n",
       "      <th>col_9</th>\n",
       "      <th>...</th>\n",
       "      <th>col_934</th>\n",
       "      <th>col_935</th>\n",
       "      <th>col_936</th>\n",
       "      <th>col_937</th>\n",
       "      <th>col_938</th>\n",
       "      <th>col_939</th>\n",
       "      <th>col_940</th>\n",
       "      <th>col_941</th>\n",
       "      <th>col_942</th>\n",
       "      <th>col_943</th>\n",
       "    </tr>\n",
       "  </thead>\n",
       "  <tbody>\n",
       "    <tr>\n",
       "      <th>0</th>\n",
       "      <td>0.317450</td>\n",
       "      <td>0.317450</td>\n",
       "      <td>0.317450</td>\n",
       "      <td>0.317450</td>\n",
       "      <td>0.317450</td>\n",
       "      <td>0.317450</td>\n",
       "      <td>0.317450</td>\n",
       "      <td>0.317450</td>\n",
       "      <td>0.317450</td>\n",
       "      <td>0.317450</td>\n",
       "      <td>...</td>\n",
       "      <td>0.84246</td>\n",
       "      <td>0.82818</td>\n",
       "      <td>0.81390</td>\n",
       "      <td>0.79962</td>\n",
       "      <td>0.78477</td>\n",
       "      <td>0.767090</td>\n",
       "      <td>0.740940</td>\n",
       "      <td>0.712380</td>\n",
       "      <td>0.683820</td>\n",
       "      <td>1.0</td>\n",
       "    </tr>\n",
       "    <tr>\n",
       "      <th>1</th>\n",
       "      <td>0.013633</td>\n",
       "      <td>0.013633</td>\n",
       "      <td>0.013633</td>\n",
       "      <td>0.013633</td>\n",
       "      <td>0.013633</td>\n",
       "      <td>0.013633</td>\n",
       "      <td>0.013633</td>\n",
       "      <td>0.013633</td>\n",
       "      <td>0.013633</td>\n",
       "      <td>0.013633</td>\n",
       "      <td>...</td>\n",
       "      <td>0.25528</td>\n",
       "      <td>0.25528</td>\n",
       "      <td>0.25528</td>\n",
       "      <td>0.25528</td>\n",
       "      <td>0.25528</td>\n",
       "      <td>0.255280</td>\n",
       "      <td>0.255280</td>\n",
       "      <td>0.255280</td>\n",
       "      <td>0.255280</td>\n",
       "      <td>1.0</td>\n",
       "    </tr>\n",
       "    <tr>\n",
       "      <th>2</th>\n",
       "      <td>-1.407500</td>\n",
       "      <td>-1.407500</td>\n",
       "      <td>-1.407500</td>\n",
       "      <td>-1.407500</td>\n",
       "      <td>-1.407500</td>\n",
       "      <td>-1.407500</td>\n",
       "      <td>-1.407500</td>\n",
       "      <td>-1.407500</td>\n",
       "      <td>-1.407500</td>\n",
       "      <td>-1.407500</td>\n",
       "      <td>...</td>\n",
       "      <td>0.19882</td>\n",
       "      <td>0.24220</td>\n",
       "      <td>0.28516</td>\n",
       "      <td>0.32812</td>\n",
       "      <td>0.36145</td>\n",
       "      <td>0.390380</td>\n",
       "      <td>0.419310</td>\n",
       "      <td>0.448240</td>\n",
       "      <td>0.477180</td>\n",
       "      <td>1.0</td>\n",
       "    </tr>\n",
       "    <tr>\n",
       "      <th>3</th>\n",
       "      <td>-0.044749</td>\n",
       "      <td>-0.044749</td>\n",
       "      <td>-0.044749</td>\n",
       "      <td>-0.044749</td>\n",
       "      <td>-0.044749</td>\n",
       "      <td>-0.044749</td>\n",
       "      <td>-0.044749</td>\n",
       "      <td>-0.044749</td>\n",
       "      <td>-0.044749</td>\n",
       "      <td>-0.044749</td>\n",
       "      <td>...</td>\n",
       "      <td>0.53957</td>\n",
       "      <td>0.57796</td>\n",
       "      <td>0.61364</td>\n",
       "      <td>0.64932</td>\n",
       "      <td>0.68500</td>\n",
       "      <td>0.651120</td>\n",
       "      <td>0.615450</td>\n",
       "      <td>0.579770</td>\n",
       "      <td>0.544090</td>\n",
       "      <td>1.0</td>\n",
       "    </tr>\n",
       "    <tr>\n",
       "      <th>4</th>\n",
       "      <td>-0.400060</td>\n",
       "      <td>-0.400060</td>\n",
       "      <td>-0.400060</td>\n",
       "      <td>-0.400060</td>\n",
       "      <td>-0.400060</td>\n",
       "      <td>-0.400060</td>\n",
       "      <td>-0.400060</td>\n",
       "      <td>-0.400060</td>\n",
       "      <td>-0.400060</td>\n",
       "      <td>-0.400060</td>\n",
       "      <td>...</td>\n",
       "      <td>0.29726</td>\n",
       "      <td>0.26346</td>\n",
       "      <td>0.22009</td>\n",
       "      <td>0.16862</td>\n",
       "      <td>0.10254</td>\n",
       "      <td>0.041917</td>\n",
       "      <td>0.000058</td>\n",
       "      <td>-0.036678</td>\n",
       "      <td>-0.070475</td>\n",
       "      <td>1.0</td>\n",
       "    </tr>\n",
       "  </tbody>\n",
       "</table>\n",
       "<p>5 rows × 944 columns</p>\n",
       "</div>"
      ],
      "text/plain": [
       "      col_0     col_1     col_2     col_3     col_4     col_5     col_6  \\\n",
       "0  0.317450  0.317450  0.317450  0.317450  0.317450  0.317450  0.317450   \n",
       "1  0.013633  0.013633  0.013633  0.013633  0.013633  0.013633  0.013633   \n",
       "2 -1.407500 -1.407500 -1.407500 -1.407500 -1.407500 -1.407500 -1.407500   \n",
       "3 -0.044749 -0.044749 -0.044749 -0.044749 -0.044749 -0.044749 -0.044749   \n",
       "4 -0.400060 -0.400060 -0.400060 -0.400060 -0.400060 -0.400060 -0.400060   \n",
       "\n",
       "      col_7     col_8     col_9  ...  col_934  col_935  col_936  col_937  \\\n",
       "0  0.317450  0.317450  0.317450  ...  0.84246  0.82818  0.81390  0.79962   \n",
       "1  0.013633  0.013633  0.013633  ...  0.25528  0.25528  0.25528  0.25528   \n",
       "2 -1.407500 -1.407500 -1.407500  ...  0.19882  0.24220  0.28516  0.32812   \n",
       "3 -0.044749 -0.044749 -0.044749  ...  0.53957  0.57796  0.61364  0.64932   \n",
       "4 -0.400060 -0.400060 -0.400060  ...  0.29726  0.26346  0.22009  0.16862   \n",
       "\n",
       "   col_938   col_939   col_940   col_941   col_942  col_943  \n",
       "0  0.78477  0.767090  0.740940  0.712380  0.683820      1.0  \n",
       "1  0.25528  0.255280  0.255280  0.255280  0.255280      1.0  \n",
       "2  0.36145  0.390380  0.419310  0.448240  0.477180      1.0  \n",
       "3  0.68500  0.651120  0.615450  0.579770  0.544090      1.0  \n",
       "4  0.10254  0.041917  0.000058 -0.036678 -0.070475      1.0  \n",
       "\n",
       "[5 rows x 944 columns]"
      ]
     },
     "execution_count": 26,
     "metadata": {},
     "output_type": "execute_result"
    }
   ],
   "source": [
    "train_df.head()"
   ]
  }
 ],
 "metadata": {
  "kernelspec": {
   "display_name": "gestue-env",
   "language": "python",
   "name": "python3"
  },
  "language_info": {
   "codemirror_mode": {
    "name": "ipython",
    "version": 3
   },
   "file_extension": ".py",
   "mimetype": "text/x-python",
   "name": "python",
   "nbconvert_exporter": "python",
   "pygments_lexer": "ipython3",
   "version": "3.11.4"
  }
 },
 "nbformat": 4,
 "nbformat_minor": 2
}
